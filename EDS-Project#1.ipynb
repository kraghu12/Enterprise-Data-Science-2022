{
 "cells": [
  {
   "cell_type": "code",
   "execution_count": null,
   "id": "6a6a3b94",
   "metadata": {},
   "outputs": [],
   "source": [
    "pip install missingno"
   ]
  },
  {
   "cell_type": "code",
   "execution_count": null,
   "id": "2f72dae9",
   "metadata": {
    "scrolled": true
   },
   "outputs": [],
   "source": [
    "import pandas as pd\n",
    "import missingno as msno\n",
    "%matplotlib inline"
   ]
  },
  {
   "cell_type": "code",
   "execution_count": null,
   "id": "3f053539",
   "metadata": {},
   "outputs": [],
   "source": [
    "url=\"https://covid.ourworldindata.org/data/owid-covid-data.csv\""
   ]
  },
  {
   "cell_type": "code",
   "execution_count": null,
   "id": "1f2b5a6d",
   "metadata": {},
   "outputs": [],
   "source": [
    "df_country_info=pd.read_csv(url, sep=',')"
   ]
  },
  {
   "cell_type": "code",
   "execution_count": null,
   "id": "8909ab9b",
   "metadata": {},
   "outputs": [],
   "source": [
    "df_country_info"
   ]
  },
  {
   "cell_type": "code",
   "execution_count": null,
   "id": "a415edd2",
   "metadata": {},
   "outputs": [],
   "source": [
    "df_country_info.columns"
   ]
  },
  {
   "cell_type": "code",
   "execution_count": null,
   "id": "a8615f44",
   "metadata": {},
   "outputs": [],
   "source": [
    "df_country_info.head(5)"
   ]
  },
  {
   "cell_type": "code",
   "execution_count": null,
   "id": "14106de2",
   "metadata": {
    "scrolled": true
   },
   "outputs": [],
   "source": [
    "df_country_info.to_csv('covid_full_data.csv', ',')"
   ]
  },
  {
   "cell_type": "code",
   "execution_count": null,
   "id": "4384850b",
   "metadata": {},
   "outputs": [],
   "source": [
    "df_country_info['location']"
   ]
  },
  {
   "cell_type": "code",
   "execution_count": null,
   "id": "7a50bd84",
   "metadata": {},
   "outputs": [],
   "source": [
    "df_country_info['location'].unique()"
   ]
  },
  {
   "cell_type": "code",
   "execution_count": null,
   "id": "a9784c2e",
   "metadata": {},
   "outputs": [],
   "source": [
    "df_country_info['location']=='Germany'"
   ]
  },
  {
   "cell_type": "code",
   "execution_count": null,
   "id": "fa76a73c",
   "metadata": {},
   "outputs": [],
   "source": [
    "df_GER=df_country_info[df_country_info['location']=='Germany']"
   ]
  },
  {
   "cell_type": "code",
   "execution_count": null,
   "id": "6122297f",
   "metadata": {},
   "outputs": [],
   "source": [
    "df_GER"
   ]
  },
  {
   "cell_type": "code",
   "execution_count": null,
   "id": "52480881",
   "metadata": {},
   "outputs": [],
   "source": [
    "df_GER.reset_index(drop = True) "
   ]
  },
  {
   "cell_type": "code",
   "execution_count": null,
   "id": "4510d4a0",
   "metadata": {},
   "outputs": [],
   "source": [
    "df_US=df_country_info[df_country_info['location']=='United States']\n",
    "df_US.reset_index(drop = True) "
   ]
  },
  {
   "cell_type": "code",
   "execution_count": null,
   "id": "64d24662",
   "metadata": {},
   "outputs": [],
   "source": [
    "df_US"
   ]
  },
  {
   "cell_type": "code",
   "execution_count": null,
   "id": "8fd54edd",
   "metadata": {},
   "outputs": [],
   "source": [
    "df_IND=df_country_info[df_country_info['location']=='India']\n",
    "df_IND.reset_index(drop = True) "
   ]
  },
  {
   "cell_type": "code",
   "execution_count": null,
   "id": "afc021e3",
   "metadata": {},
   "outputs": [],
   "source": [
    "df_IND"
   ]
  },
  {
   "cell_type": "code",
   "execution_count": null,
   "id": "a760b5a9",
   "metadata": {},
   "outputs": [],
   "source": [
    "msno.matrix(df_GER)"
   ]
  },
  {
   "cell_type": "code",
   "execution_count": null,
   "id": "bbc00895",
   "metadata": {},
   "outputs": [],
   "source": [
    "msno.matrix(df_GER[['iso_code', 'continent', 'location', 'date', 'total_cases', 'new_cases',\n",
    "       'new_cases_smoothed', 'total_deaths', 'new_deaths',\n",
    "       'new_deaths_smoothed', 'total_cases_per_million',\n",
    "       'new_cases_per_million', 'new_cases_smoothed_per_million',\n",
    "       'total_deaths_per_million', 'new_deaths_per_million',\n",
    "       'new_deaths_smoothed_per_million', 'reproduction_rate']])"
   ]
  },
  {
   "cell_type": "code",
   "execution_count": null,
   "id": "251635a5",
   "metadata": {},
   "outputs": [],
   "source": [
    "msno.matrix(df_IND)"
   ]
  },
  {
   "cell_type": "code",
   "execution_count": null,
   "id": "fe0d42c4",
   "metadata": {
    "scrolled": true
   },
   "outputs": [],
   "source": [
    "msno.matrix(df_IND[['iso_code', 'continent', 'location', 'date', 'total_cases', 'new_cases',\n",
    "       'new_cases_smoothed', 'total_deaths', 'new_deaths',\n",
    "       'new_deaths_smoothed', 'total_cases_per_million',\n",
    "       'new_cases_per_million', 'new_cases_smoothed_per_million',\n",
    "       'total_deaths_per_million', 'new_deaths_per_million',\n",
    "       'new_deaths_smoothed_per_million', 'reproduction_rate']])"
   ]
  },
  {
   "cell_type": "code",
   "execution_count": null,
   "id": "3950fa52",
   "metadata": {},
   "outputs": [],
   "source": [
    "msno.matrix(df_US)"
   ]
  },
  {
   "cell_type": "code",
   "execution_count": null,
   "id": "f0f3c6ae",
   "metadata": {
    "scrolled": true
   },
   "outputs": [],
   "source": [
    "msno.matrix(df_US[['iso_code', 'continent', 'location', 'date', 'total_cases', 'new_cases',\n",
    "       'new_cases_smoothed', 'total_deaths', 'new_deaths',\n",
    "       'new_deaths_smoothed', 'total_cases_per_million',\n",
    "       'new_cases_per_million', 'new_cases_smoothed_per_million',\n",
    "       'total_deaths_per_million', 'new_deaths_per_million',\n",
    "       'new_deaths_smoothed_per_million', 'reproduction_rate']])"
   ]
  },
  {
   "cell_type": "code",
   "execution_count": null,
   "id": "706f552a",
   "metadata": {},
   "outputs": [],
   "source": [
    "import plotly.express as px\n",
    "fig = px.line(df_GER, x=\"date\", y=\"total_cases\", title='COVID cases')\n",
    "fig.show()"
   ]
  },
  {
   "cell_type": "code",
   "execution_count": null,
   "id": "75d7fd0e",
   "metadata": {},
   "outputs": [],
   "source": [
    "fig = px.line(df_IND, x=\"date\", y=\"total_cases\", title='COVID cases')\n",
    "fig.show()"
   ]
  },
  {
   "cell_type": "code",
   "execution_count": null,
   "id": "a3bdd9e9",
   "metadata": {},
   "outputs": [],
   "source": [
    "fig = px.line(df_US, x=\"date\", y=\"total_cases\", title='COVID cases')\n",
    "fig.show()"
   ]
  },
  {
   "cell_type": "code",
   "execution_count": null,
   "id": "19f3bd97",
   "metadata": {},
   "outputs": [],
   "source": [
    "b_GER=df_country_info['location']=='Germany'\n",
    "b_US=df_country_info['location']=='United States'\n",
    "b_IND=df_country_info['location']=='India'\n",
    "\n",
    "b_all= b_GER|b_IND|b_US"
   ]
  },
  {
   "cell_type": "code",
   "execution_count": null,
   "id": "432c7c5f",
   "metadata": {},
   "outputs": [],
   "source": [
    "df_my_list=df_country_info[b_all]"
   ]
  },
  {
   "cell_type": "code",
   "execution_count": null,
   "id": "0b3e5bc1",
   "metadata": {
    "scrolled": true
   },
   "outputs": [],
   "source": [
    "df_my_list"
   ]
  },
  {
   "cell_type": "code",
   "execution_count": null,
   "id": "ed920220",
   "metadata": {
    "scrolled": true
   },
   "outputs": [],
   "source": [
    "fig = px.line(df_my_list, x=\"date\", y=\"total_cases\",color='location',title='COVID cases Comparison')\n",
    "fig.show()"
   ]
  },
  {
   "cell_type": "code",
   "execution_count": null,
   "id": "31ad91b8",
   "metadata": {},
   "outputs": [],
   "source": [
    "df_my_list['total_infection_mean']=df_my_list['total_cases']/df_my_list['population']"
   ]
  },
  {
   "cell_type": "code",
   "execution_count": null,
   "id": "0db84ce3",
   "metadata": {},
   "outputs": [],
   "source": [
    "Rel_Cases=px.line(df_my_list, x= \"date\", y= \"total_infection_mean\",color='location', title= \"Relative Covid Cases over time \")\n",
    "Rel_Cases.show()\n"
   ]
  },
  {
   "cell_type": "code",
   "execution_count": null,
   "id": "9fac1f52",
   "metadata": {},
   "outputs": [],
   "source": [
    "df_my_list['total_vaccination_mean']=df_my_list['people_fully_vaccinated']/df_my_list['population']"
   ]
  },
  {
   "cell_type": "code",
   "execution_count": null,
   "id": "200eafea",
   "metadata": {},
   "outputs": [],
   "source": [
    "Vacc_Rate=px.line(df_my_list, x= \"date\", y= \"total_vaccination_mean\",color='location', title= \"Vaccination Rate Comparison\")\n",
    "Vacc_Rate.show()"
   ]
  }
 ],
 "metadata": {
  "kernelspec": {
   "display_name": "Python 3 (ipykernel)",
   "language": "python",
   "name": "python3"
  },
  "language_info": {
   "codemirror_mode": {
    "name": "ipython",
    "version": 3
   },
   "file_extension": ".py",
   "mimetype": "text/x-python",
   "name": "python",
   "nbconvert_exporter": "python",
   "pygments_lexer": "ipython3",
   "version": "3.9.12"
  }
 },
 "nbformat": 4,
 "nbformat_minor": 5
}
